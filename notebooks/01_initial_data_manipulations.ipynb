{
 "metadata": {
  "language_info": {
   "codemirror_mode": {
    "name": "ipython",
    "version": 3
   },
   "file_extension": ".py",
   "mimetype": "text/x-python",
   "name": "python",
   "nbconvert_exporter": "python",
   "pygments_lexer": "ipython3",
   "version": "3.7.10"
  },
  "orig_nbformat": 4,
  "kernelspec": {
   "name": "python3",
   "display_name": "Python 3.7.10 64-bit"
  },
  "interpreter": {
   "hash": "7a3d88c904243d2c3f246166597f86d1c0a39f3d97496d1fe394945d0c6d436d"
  }
 },
 "nbformat": 4,
 "nbformat_minor": 2,
 "cells": [
  {
   "cell_type": "code",
   "execution_count": 11,
   "metadata": {},
   "outputs": [],
   "source": [
    "import pandas as pd\n",
    "import re"
   ]
  },
  {
   "cell_type": "code",
   "execution_count": 107,
   "metadata": {},
   "outputs": [],
   "source": [
    "dat = pd.read_excel(\"../data/external/0053 Mountain Home Dispense Data NO PHI.xls\", sheet_name = 'Sheet1')"
   ]
  },
  {
   "cell_type": "code",
   "execution_count": 108,
   "metadata": {},
   "outputs": [],
   "source": [
    "def extract_amount_from_cdl_string(cdl_string):\n",
    "     matches = re.search(string = cdl_string, pattern = \"\\#\\s*(\\d*\\.?\\d*)\")\n",
    "     first_match = matches.group(1)\n",
    "     return float(first_match)\n",
    "\n",
    "def extract_unit_from_cdl_string(cdl_string):\n",
    "     matches = re.search(string = cdl_string, pattern = \"\\#\\s+\\d*\\.?\\d*\\s+([a-zA-Z]+)\")\n",
    "     first_match = matches.group(1)\n",
    "     return first_match\n",
    "\n",
    "def get_date_from_timestamp_string(dt_string):\n",
    "    return datetime.strptime(dt_string, '%b/%d/%y %H:%M:%S').date()"
   ]
  },
  {
   "cell_type": "code",
   "execution_count": 109,
   "metadata": {},
   "outputs": [],
   "source": [
    "dat[\"AMOUNT\"] = dat[\"CDL\"].apply(extract_amount_from_cdl_string)\n",
    "dat[\"UNIT\"] = dat[\"CDL\"].apply(extract_unit_from_cdl_string)\n",
    "dat['FILL_DATE'] = dat[\"DISPENSE_DT_TM\"].apply(get_date_from_timestamp_string)"
   ]
  },
  {
   "cell_type": "code",
   "execution_count": 110,
   "metadata": {},
   "outputs": [],
   "source": [
    "dat = dat[[\"FILL_DATE\", \"PRIMARY\", \"NDC_DESC\", \"CDL\", \"UNIT\", \"AMOUNT\"]]"
   ]
  },
  {
   "cell_type": "code",
   "execution_count": 111,
   "metadata": {},
   "outputs": [
    {
     "output_type": "execute_result",
     "data": {
      "text/plain": [
       "       FILL_DATE       PRIMARY                      NDC_DESC  \\\n",
       "0     2021-06-13    DULoxetine   DULoxetine DR 60 mg capsule   \n",
       "1     2021-06-13    DULoxetine   DULoxetine DR 60 mg capsule   \n",
       "2     2021-06-13    FLUoxetine      FLUoxetine 20 mg capsule   \n",
       "3     2021-06-13     albuterol  Proair 90 mcg inhaler [8.5g]   \n",
       "4     2021-06-13     albuterol  Proair 90 mcg inhaler [8.5g]   \n",
       "...          ...           ...                           ...   \n",
       "1306  2021-06-20   simvastatin      simvastatin 10 mg tablet   \n",
       "1307  2021-06-20   simvastatin      simvastatin 10 mg tablet   \n",
       "1308  2021-06-20   sitaGLIPtin         Januvia 100 mg tablet   \n",
       "1309  2021-06-20     traZODone       traZODone 100 mg tablet   \n",
       "1310  2021-06-20  vortioxetine       Trintellix 20 mg tablet   \n",
       "\n",
       "                                                    CDL UNIT  AMOUNT  \n",
       "0     60 mg, Oral, Daily, # 90 EA, 1 total refill(s)...   EA    90.0  \n",
       "1     60 mg, Oral, Daily, # 90 EA, 3 total refill(s)...   EA    90.0  \n",
       "2     20 mg, Oral, TID, # 270 EA, 1 total refill(s),...   EA   270.0  \n",
       "3     = 2 puff(s), Inhale, every 4 hr, # 8 g, 3 tota...    g     8.0  \n",
       "4     See Rx Instructions, # 8 g, 11 total refill(s)...    g     8.0  \n",
       "...                                                 ...  ...     ...  \n",
       "1306  10 mg, Oral, every evening, # 90 EA, 3 total r...   EA    90.0  \n",
       "1307  See Rx Instructions, # 180 EA, 3 total refill(...   EA   180.0  \n",
       "1308  100 mg, Oral, Daily, # 90 EA, 3 total refill(s...   EA    90.0  \n",
       "1309  See Rx Instructions, # 135 EA, 3 total refill(...   EA   135.0  \n",
       "1310  See Rx Instructions, # 90 EA, 3 total refill(s...   EA    90.0  \n",
       "\n",
       "[1311 rows x 6 columns]"
      ],
      "text/html": "<div>\n<style scoped>\n    .dataframe tbody tr th:only-of-type {\n        vertical-align: middle;\n    }\n\n    .dataframe tbody tr th {\n        vertical-align: top;\n    }\n\n    .dataframe thead th {\n        text-align: right;\n    }\n</style>\n<table border=\"1\" class=\"dataframe\">\n  <thead>\n    <tr style=\"text-align: right;\">\n      <th></th>\n      <th>FILL_DATE</th>\n      <th>PRIMARY</th>\n      <th>NDC_DESC</th>\n      <th>CDL</th>\n      <th>UNIT</th>\n      <th>AMOUNT</th>\n    </tr>\n  </thead>\n  <tbody>\n    <tr>\n      <th>0</th>\n      <td>2021-06-13</td>\n      <td>DULoxetine</td>\n      <td>DULoxetine DR 60 mg capsule</td>\n      <td>60 mg, Oral, Daily, # 90 EA, 1 total refill(s)...</td>\n      <td>EA</td>\n      <td>90.0</td>\n    </tr>\n    <tr>\n      <th>1</th>\n      <td>2021-06-13</td>\n      <td>DULoxetine</td>\n      <td>DULoxetine DR 60 mg capsule</td>\n      <td>60 mg, Oral, Daily, # 90 EA, 3 total refill(s)...</td>\n      <td>EA</td>\n      <td>90.0</td>\n    </tr>\n    <tr>\n      <th>2</th>\n      <td>2021-06-13</td>\n      <td>FLUoxetine</td>\n      <td>FLUoxetine 20 mg capsule</td>\n      <td>20 mg, Oral, TID, # 270 EA, 1 total refill(s),...</td>\n      <td>EA</td>\n      <td>270.0</td>\n    </tr>\n    <tr>\n      <th>3</th>\n      <td>2021-06-13</td>\n      <td>albuterol</td>\n      <td>Proair 90 mcg inhaler [8.5g]</td>\n      <td>= 2 puff(s), Inhale, every 4 hr, # 8 g, 3 tota...</td>\n      <td>g</td>\n      <td>8.0</td>\n    </tr>\n    <tr>\n      <th>4</th>\n      <td>2021-06-13</td>\n      <td>albuterol</td>\n      <td>Proair 90 mcg inhaler [8.5g]</td>\n      <td>See Rx Instructions, # 8 g, 11 total refill(s)...</td>\n      <td>g</td>\n      <td>8.0</td>\n    </tr>\n    <tr>\n      <th>...</th>\n      <td>...</td>\n      <td>...</td>\n      <td>...</td>\n      <td>...</td>\n      <td>...</td>\n      <td>...</td>\n    </tr>\n    <tr>\n      <th>1306</th>\n      <td>2021-06-20</td>\n      <td>simvastatin</td>\n      <td>simvastatin 10 mg tablet</td>\n      <td>10 mg, Oral, every evening, # 90 EA, 3 total r...</td>\n      <td>EA</td>\n      <td>90.0</td>\n    </tr>\n    <tr>\n      <th>1307</th>\n      <td>2021-06-20</td>\n      <td>simvastatin</td>\n      <td>simvastatin 10 mg tablet</td>\n      <td>See Rx Instructions, # 180 EA, 3 total refill(...</td>\n      <td>EA</td>\n      <td>180.0</td>\n    </tr>\n    <tr>\n      <th>1308</th>\n      <td>2021-06-20</td>\n      <td>sitaGLIPtin</td>\n      <td>Januvia 100 mg tablet</td>\n      <td>100 mg, Oral, Daily, # 90 EA, 3 total refill(s...</td>\n      <td>EA</td>\n      <td>90.0</td>\n    </tr>\n    <tr>\n      <th>1309</th>\n      <td>2021-06-20</td>\n      <td>traZODone</td>\n      <td>traZODone 100 mg tablet</td>\n      <td>See Rx Instructions, # 135 EA, 3 total refill(...</td>\n      <td>EA</td>\n      <td>135.0</td>\n    </tr>\n    <tr>\n      <th>1310</th>\n      <td>2021-06-20</td>\n      <td>vortioxetine</td>\n      <td>Trintellix 20 mg tablet</td>\n      <td>See Rx Instructions, # 90 EA, 3 total refill(s...</td>\n      <td>EA</td>\n      <td>90.0</td>\n    </tr>\n  </tbody>\n</table>\n<p>1311 rows × 6 columns</p>\n</div>"
     },
     "metadata": {},
     "execution_count": 111
    }
   ],
   "source": [
    "dat.groupby(by=[\"FILL_DATE\", \"PRIMARY\", \"NDC_DESC\", \"CDL\", \"UNIT\"]).sum().reset_index()"
   ]
  },
  {
   "cell_type": "code",
   "execution_count": 81,
   "metadata": {},
   "outputs": [
    {
     "output_type": "execute_result",
     "data": {
      "text/plain": [
       "datetime.datetime(2021, 6, 20, 13, 28, 11)"
      ]
     },
     "metadata": {},
     "execution_count": 81
    }
   ],
   "source": []
  },
  {
   "cell_type": "code",
   "execution_count": null,
   "metadata": {},
   "outputs": [],
   "source": []
  }
 ]
}